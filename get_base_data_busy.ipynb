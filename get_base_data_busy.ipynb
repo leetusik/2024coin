{
 "cells": [
  {
   "cell_type": "code",
   "execution_count": 1,
   "metadata": {},
   "outputs": [
    {
     "name": "stdout",
     "output_type": "stream",
     "text": [
      "       Unnamed: 0   market             time_kst        open        high  \\\n",
      "0               0  KRW-BTC  2021-04-01T00:00:00  70913000.0  71975000.0   \n",
      "1               1  KRW-BTC  2021-04-01T01:00:00  71861000.0  72000000.0   \n",
      "2               2  KRW-BTC  2021-04-01T02:00:00  71500000.0  71738000.0   \n",
      "3               3  KRW-BTC  2021-04-01T03:00:00  71636000.0  71672000.0   \n",
      "4               4  KRW-BTC  2021-04-01T04:00:00  71619000.0  71672000.0   \n",
      "...           ...      ...                  ...         ...         ...   \n",
      "29606       29606  KRW-BTC  2024-08-18T11:00:00  82730000.0  83679000.0   \n",
      "29607       29607  KRW-BTC  2024-08-18T12:00:00  83531000.0  83670000.0   \n",
      "29608       29608  KRW-BTC  2024-08-18T13:00:00  82739000.0  82991000.0   \n",
      "29609       29609  KRW-BTC  2024-08-18T14:00:00  82927000.0  83200000.0   \n",
      "29610       29610  KRW-BTC  2024-08-18T15:00:00  82980000.0  82992000.0   \n",
      "\n",
      "              low       close    volume_krw  volume_market  \n",
      "0      70838000.0  71826000.0  5.065805e+10     708.447441  \n",
      "1      71250000.0  71445000.0  2.085168e+10     291.088119  \n",
      "2      71420000.0  71662000.0  9.189578e+09     128.412123  \n",
      "3      71619000.0  71672000.0  2.445964e+07       0.341378  \n",
      "4      70770000.0  70910000.0  6.646020e+09      93.397432  \n",
      "...           ...         ...           ...            ...  \n",
      "29606  82730000.0  83528000.0  1.138587e+10     136.821548  \n",
      "29607  82710000.0  82739000.0  8.606897e+09     103.617611  \n",
      "29608  82650000.0  82927000.0  4.910657e+09      59.288175  \n",
      "29609  82850000.0  82980000.0  3.992564e+09      48.084358  \n",
      "29610  82930000.0  82931000.0  1.241540e+08       1.496592  \n",
      "\n",
      "[29611 rows x 9 columns]\n"
     ]
    }
   ],
   "source": [
    "import pandas as pd\n",
    "\n",
    "df = pd.read_csv(\"data/total_hours.csv\")\n",
    "print(df)"
   ]
  },
  {
   "cell_type": "code",
   "execution_count": 2,
   "metadata": {},
   "outputs": [
    {
     "name": "stderr",
     "output_type": "stream",
     "text": [
      "/var/folders/99/rgk848td545d3hdrkgrkw0t40000gn/T/ipykernel_42122/378141607.py:5: FutureWarning: 'H' is deprecated and will be removed in a future version, please use 'h' instead.\n",
      "  complete_time_series = pd.date_range(start='2021-04-01 00:00:00', end='2024-08-18 15:00:00', freq='H')\n"
     ]
    },
    {
     "data": {
      "text/plain": [
       "DatetimeIndex(['2021-04-19 04:00:00', '2021-06-01 04:00:00',\n",
       "               '2021-07-01 01:00:00', '2021-07-01 02:00:00',\n",
       "               '2021-08-17 03:00:00', '2021-10-13 00:00:00',\n",
       "               '2021-11-15 04:00:00', '2022-01-01 03:00:00',\n",
       "               '2022-01-01 04:00:00', '2022-02-14 03:00:00',\n",
       "               '2022-02-14 04:00:00', '2022-05-24 02:00:00',\n",
       "               '2022-07-01 02:00:00', '2022-07-01 03:00:00',\n",
       "               '2022-07-01 04:00:00', '2022-10-01 03:00:00',\n",
       "               '2023-01-01 03:00:00', '2023-01-01 04:00:00',\n",
       "               '2023-04-01 03:00:00', '2023-04-01 04:00:00',\n",
       "               '2023-04-01 05:00:00', '2023-04-24 03:00:00',\n",
       "               '2023-04-24 04:00:00', '2023-04-24 05:00:00',\n",
       "               '2023-04-24 06:00:00', '2023-07-12 03:00:00',\n",
       "               '2023-07-12 04:00:00', '2023-08-09 03:00:00',\n",
       "               '2023-08-09 04:00:00', '2023-08-09 05:00:00',\n",
       "               '2023-12-04 01:00:00', '2023-12-04 02:00:00',\n",
       "               '2023-12-04 03:00:00', '2023-12-04 04:00:00',\n",
       "               '2023-12-04 05:00:00', '2024-01-01 02:00:00',\n",
       "               '2024-01-01 03:00:00', '2024-01-01 04:00:00',\n",
       "               '2024-01-01 05:00:00', '2024-04-01 03:00:00',\n",
       "               '2024-04-01 04:00:00', '2024-04-01 05:00:00',\n",
       "               '2024-07-01 03:00:00', '2024-07-01 04:00:00',\n",
       "               '2024-07-01 05:00:00'],\n",
       "              dtype='datetime64[ns]', freq=None)"
      ]
     },
     "execution_count": 2,
     "metadata": {},
     "output_type": "execute_result"
    }
   ],
   "source": [
    "# Convert the 'time_kst' column to datetime\n",
    "df['time_kst'] = pd.to_datetime(df['time_kst'])\n",
    "\n",
    "# Generate the complete time series\n",
    "complete_time_series = pd.date_range(start='2021-04-01 00:00:00', end='2024-08-18 15:00:00', freq='H')\n",
    "\n",
    "# Find missing time intervals by comparing the two sets\n",
    "missing_times = complete_time_series.difference(df['time_kst'])\n",
    "\n",
    "# Display the missing times\n",
    "missing_times"
   ]
  },
  {
   "cell_type": "code",
   "execution_count": 3,
   "metadata": {},
   "outputs": [
    {
     "name": "stdout",
     "output_type": "stream",
     "text": [
      "    hour          open         close  volume_market\n",
      "0      0  5.080929e+07  5.081486e+07     300.415345\n",
      "1      1  5.083852e+07  5.082981e+07     224.563707\n",
      "2      2  5.085629e+07  5.085627e+07     150.194253\n",
      "3      3  5.084477e+07  5.085209e+07     130.875980\n",
      "4      4  5.080315e+07  5.080196e+07     125.623559\n",
      "5      5  5.079249e+07  5.081716e+07     143.567810\n",
      "6      6  5.087506e+07  5.090182e+07     171.692611\n",
      "7      7  5.089165e+07  5.090088e+07     218.332048\n",
      "8      8  5.090096e+07  5.086612e+07     251.958581\n",
      "9      9  5.086663e+07  5.087698e+07     417.043760\n",
      "10    10  5.087699e+07  5.085108e+07     331.371800\n",
      "11    11  5.085135e+07  5.083224e+07     280.756828\n",
      "12    12  5.083358e+07  5.080469e+07     262.968519\n",
      "13    13  5.080504e+07  5.078677e+07     251.253146\n",
      "14    14  5.078723e+07  5.077902e+07     240.331782\n",
      "15    15  5.077952e+07  5.079194e+07     255.017814\n",
      "16    16  5.076645e+07  5.076741e+07     264.993320\n",
      "17    17  5.076792e+07  5.077470e+07     287.285944\n",
      "18    18  5.077658e+07  5.077161e+07     260.970992\n",
      "19    19  5.077242e+07  5.078252e+07     253.798748\n",
      "20    20  5.078306e+07  5.079829e+07     267.267115\n",
      "21    21  5.079927e+07  5.081146e+07     337.205385\n",
      "22    22  5.081189e+07  5.082321e+07     363.031986\n",
      "23    23  5.082353e+07  5.080799e+07     355.091425\n"
     ]
    }
   ],
   "source": [
    "import pandas as pd\n",
    "\n",
    "# Assuming your DataFrame is named df and the 'time_kst' column is already in datetime format\n",
    "df['hour'] = df['time_kst'].dt.hour  # Extract hour from time_kst\n",
    "\n",
    "# Group by the 'hour' column\n",
    "grouped_by_hour = df.groupby('hour').agg({\n",
    "    'open': 'mean',        # Example: Calculate the average 'open' price per hour\n",
    "    'close': 'mean',       # Example: Calculate the average 'close' price per hour\n",
    "    'volume_market': 'mean'    # Example: Calculate the total volume per hour\n",
    "})\n",
    "\n",
    "# Reset index if you want the hour to be a column again\n",
    "grouped_by_hour = grouped_by_hour.reset_index()\n",
    "\n",
    "# Display the result\n",
    "print(grouped_by_hour)\n"
   ]
  },
  {
   "cell_type": "code",
   "execution_count": 4,
   "metadata": {},
   "outputs": [
    {
     "name": "stdout",
     "output_type": "stream",
     "text": [
      "     day_starting_at_9am        open        high         low       close  \\\n",
      "0    2021-03-31 09:00:00  70913000.0  72000000.0  70670000.0  71513000.0   \n",
      "1    2021-04-01 09:00:00  71480000.0  73325000.0  71032000.0  72749000.0   \n",
      "2    2021-04-02 09:00:00  72749000.0  74400000.0  71841000.0  73855000.0   \n",
      "3    2021-04-03 09:00:00  73934000.0  75703000.0  71783000.0  72187000.0   \n",
      "4    2021-04-04 09:00:00  72187000.0  74240000.0  71570000.0  73974000.0   \n",
      "...                  ...         ...         ...         ...         ...   \n",
      "1232 2024-08-14 09:00:00  84587000.0  85950000.0  82218000.0  82457000.0   \n",
      "1233 2024-08-15 09:00:00  82440000.0  83555000.0  79500000.0  81004000.0   \n",
      "1234 2024-08-16 09:00:00  81044000.0  83400000.0  80296000.0  82209000.0   \n",
      "1235 2024-08-17 09:00:00  82185000.0  83000000.0  82042000.0  82849000.0   \n",
      "1236 2024-08-18 09:00:00  82821000.0  83679000.0  82650000.0  82931000.0   \n",
      "\n",
      "        volume_krw  volume_market  \n",
      "0     1.622806e+11    2272.381322  \n",
      "1     6.630544e+11    9170.381958  \n",
      "2     6.413909e+11    8712.294082  \n",
      "3     6.892717e+11    9274.318109  \n",
      "4     4.821920e+11    6583.438128  \n",
      "...            ...            ...  \n",
      "1232  3.010261e+11    3583.124953  \n",
      "1233  3.258019e+11    3986.431857  \n",
      "1234  2.146991e+11    2629.819076  \n",
      "1235  7.329125e+10     887.076415  \n",
      "1236  4.060068e+10     488.995546  \n",
      "\n",
      "[1237 rows x 7 columns]\n"
     ]
    },
    {
     "name": "stderr",
     "output_type": "stream",
     "text": [
      "/var/folders/99/rgk848td545d3hdrkgrkw0t40000gn/T/ipykernel_42122/1134702907.py:6: FutureWarning: 'H' is deprecated and will be removed in a future version, please use 'h' instead.\n",
      "  daily_df = df.resample('24H', offset='9H', origin='start').agg({\n",
      "/var/folders/99/rgk848td545d3hdrkgrkw0t40000gn/T/ipykernel_42122/1134702907.py:6: FutureWarning: 'H' is deprecated and will be removed in a future version. Please use 'h' instead of 'H'.\n",
      "  daily_df = df.resample('24H', offset='9H', origin='start').agg({\n"
     ]
    }
   ],
   "source": [
    "# Step 1: Set the index to 'time_kst'\n",
    "df.set_index('time_kst', inplace=True)\n",
    "\n",
    "# Step 2: Resample the data starting at 4:00 AM each day\n",
    "# This will give daily intervals starting from 4:00 AM\n",
    "daily_df = df.resample('24H', offset='9H', origin='start').agg({\n",
    "    'open': 'first',           # Open price at 4:00 AM\n",
    "    'high': 'max',             # Highest price in the interval\n",
    "    'low': 'min',              # Lowest price in the interval\n",
    "    'close': 'last',           # Close price at 4:00 AM next day\n",
    "    'volume_krw': 'sum',       # Total volume in the interval\n",
    "    'volume_market': 'sum'     # Total market volume in the interval\n",
    "}).reset_index()\n",
    "\n",
    "# Step 3: Rename the time column\n",
    "daily_df.rename(columns={'time_kst': 'day_starting_at_9am'}, inplace=True)\n",
    "\n",
    "# Display the result\n",
    "print(daily_df)"
   ]
  },
  {
   "cell_type": "code",
   "execution_count": 5,
   "metadata": {},
   "outputs": [],
   "source": [
    "daily_df.to_csv(\"data/total_9am.csv\")"
   ]
  }
 ],
 "metadata": {
  "kernelspec": {
   "display_name": "venv",
   "language": "python",
   "name": "python3"
  },
  "language_info": {
   "codemirror_mode": {
    "name": "ipython",
    "version": 3
   },
   "file_extension": ".py",
   "mimetype": "text/x-python",
   "name": "python",
   "nbconvert_exporter": "python",
   "pygments_lexer": "ipython3",
   "version": "3.11.6"
  }
 },
 "nbformat": 4,
 "nbformat_minor": 2
}
