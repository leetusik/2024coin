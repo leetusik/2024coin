{
 "cells": [
  {
   "cell_type": "code",
   "execution_count": 9,
   "metadata": {},
   "outputs": [
    {
     "data": {
      "text/html": [
       "<div>\n",
       "<style scoped>\n",
       "    .dataframe tbody tr th:only-of-type {\n",
       "        vertical-align: middle;\n",
       "    }\n",
       "\n",
       "    .dataframe tbody tr th {\n",
       "        vertical-align: top;\n",
       "    }\n",
       "\n",
       "    .dataframe thead th {\n",
       "        text-align: right;\n",
       "    }\n",
       "</style>\n",
       "<table border=\"1\" class=\"dataframe\">\n",
       "  <thead>\n",
       "    <tr style=\"text-align: right;\">\n",
       "      <th></th>\n",
       "      <th>day_starting_at_4am</th>\n",
       "      <th>open</th>\n",
       "      <th>high</th>\n",
       "      <th>low</th>\n",
       "      <th>close</th>\n",
       "      <th>volume_krw</th>\n",
       "      <th>volume_market</th>\n",
       "    </tr>\n",
       "  </thead>\n",
       "  <tbody>\n",
       "    <tr>\n",
       "      <th>0</th>\n",
       "      <td>2021-03-31 04:00:00</td>\n",
       "      <td>70913000.0</td>\n",
       "      <td>72000000.0</td>\n",
       "      <td>70838000.0</td>\n",
       "      <td>71672000.0</td>\n",
       "      <td>8.072377e+10</td>\n",
       "      <td>1128.289061</td>\n",
       "    </tr>\n",
       "    <tr>\n",
       "      <th>1</th>\n",
       "      <td>2021-04-01 04:00:00</td>\n",
       "      <td>71619000.0</td>\n",
       "      <td>73117000.0</td>\n",
       "      <td>70670000.0</td>\n",
       "      <td>72997000.0</td>\n",
       "      <td>6.635804e+11</td>\n",
       "      <td>9202.724442</td>\n",
       "    </tr>\n",
       "    <tr>\n",
       "      <th>2</th>\n",
       "      <td>2021-04-02 04:00:00</td>\n",
       "      <td>72997000.0</td>\n",
       "      <td>74400000.0</td>\n",
       "      <td>71841000.0</td>\n",
       "      <td>73791000.0</td>\n",
       "      <td>6.514828e+11</td>\n",
       "      <td>8859.982312</td>\n",
       "    </tr>\n",
       "    <tr>\n",
       "      <th>3</th>\n",
       "      <td>2021-04-03 04:00:00</td>\n",
       "      <td>73790000.0</td>\n",
       "      <td>75703000.0</td>\n",
       "      <td>73100000.0</td>\n",
       "      <td>74815000.0</td>\n",
       "      <td>5.678623e+11</td>\n",
       "      <td>7604.545110</td>\n",
       "    </tr>\n",
       "    <tr>\n",
       "      <th>4</th>\n",
       "      <td>2021-04-04 04:00:00</td>\n",
       "      <td>74815000.0</td>\n",
       "      <td>75100000.0</td>\n",
       "      <td>71570000.0</td>\n",
       "      <td>73090000.0</td>\n",
       "      <td>6.160404e+11</td>\n",
       "      <td>8423.984650</td>\n",
       "    </tr>\n",
       "    <tr>\n",
       "      <th>...</th>\n",
       "      <td>...</td>\n",
       "      <td>...</td>\n",
       "      <td>...</td>\n",
       "      <td>...</td>\n",
       "      <td>...</td>\n",
       "      <td>...</td>\n",
       "      <td>...</td>\n",
       "    </tr>\n",
       "    <tr>\n",
       "      <th>1232</th>\n",
       "      <td>2024-08-14 04:00:00</td>\n",
       "      <td>84725000.0</td>\n",
       "      <td>85950000.0</td>\n",
       "      <td>82483000.0</td>\n",
       "      <td>82732000.0</td>\n",
       "      <td>3.119777e+11</td>\n",
       "      <td>3703.563056</td>\n",
       "    </tr>\n",
       "    <tr>\n",
       "      <th>1233</th>\n",
       "      <td>2024-08-15 04:00:00</td>\n",
       "      <td>82732000.0</td>\n",
       "      <td>83555000.0</td>\n",
       "      <td>81048000.0</td>\n",
       "      <td>81437000.0</td>\n",
       "      <td>2.546273e+11</td>\n",
       "      <td>3093.291193</td>\n",
       "    </tr>\n",
       "    <tr>\n",
       "      <th>1234</th>\n",
       "      <td>2024-08-16 04:00:00</td>\n",
       "      <td>81436000.0</td>\n",
       "      <td>83040000.0</td>\n",
       "      <td>79500000.0</td>\n",
       "      <td>82912000.0</td>\n",
       "      <td>2.868403e+11</td>\n",
       "      <td>3534.627568</td>\n",
       "    </tr>\n",
       "    <tr>\n",
       "      <th>1235</th>\n",
       "      <td>2024-08-17 04:00:00</td>\n",
       "      <td>82911000.0</td>\n",
       "      <td>83400000.0</td>\n",
       "      <td>82042000.0</td>\n",
       "      <td>82766000.0</td>\n",
       "      <td>9.552768e+10</td>\n",
       "      <td>1156.014190</td>\n",
       "    </tr>\n",
       "    <tr>\n",
       "      <th>1236</th>\n",
       "      <td>2024-08-18 04:00:00</td>\n",
       "      <td>82766000.0</td>\n",
       "      <td>83679000.0</td>\n",
       "      <td>82500000.0</td>\n",
       "      <td>82931000.0</td>\n",
       "      <td>4.892868e+10</td>\n",
       "      <td>589.698190</td>\n",
       "    </tr>\n",
       "  </tbody>\n",
       "</table>\n",
       "<p>1237 rows × 7 columns</p>\n",
       "</div>"
      ],
      "text/plain": [
       "      day_starting_at_4am        open        high         low       close  \\\n",
       "0     2021-03-31 04:00:00  70913000.0  72000000.0  70838000.0  71672000.0   \n",
       "1     2021-04-01 04:00:00  71619000.0  73117000.0  70670000.0  72997000.0   \n",
       "2     2021-04-02 04:00:00  72997000.0  74400000.0  71841000.0  73791000.0   \n",
       "3     2021-04-03 04:00:00  73790000.0  75703000.0  73100000.0  74815000.0   \n",
       "4     2021-04-04 04:00:00  74815000.0  75100000.0  71570000.0  73090000.0   \n",
       "...                   ...         ...         ...         ...         ...   \n",
       "1232  2024-08-14 04:00:00  84725000.0  85950000.0  82483000.0  82732000.0   \n",
       "1233  2024-08-15 04:00:00  82732000.0  83555000.0  81048000.0  81437000.0   \n",
       "1234  2024-08-16 04:00:00  81436000.0  83040000.0  79500000.0  82912000.0   \n",
       "1235  2024-08-17 04:00:00  82911000.0  83400000.0  82042000.0  82766000.0   \n",
       "1236  2024-08-18 04:00:00  82766000.0  83679000.0  82500000.0  82931000.0   \n",
       "\n",
       "        volume_krw  volume_market  \n",
       "0     8.072377e+10    1128.289061  \n",
       "1     6.635804e+11    9202.724442  \n",
       "2     6.514828e+11    8859.982312  \n",
       "3     5.678623e+11    7604.545110  \n",
       "4     6.160404e+11    8423.984650  \n",
       "...            ...            ...  \n",
       "1232  3.119777e+11    3703.563056  \n",
       "1233  2.546273e+11    3093.291193  \n",
       "1234  2.868403e+11    3534.627568  \n",
       "1235  9.552768e+10    1156.014190  \n",
       "1236  4.892868e+10     589.698190  \n",
       "\n",
       "[1237 rows x 7 columns]"
      ]
     },
     "execution_count": 9,
     "metadata": {},
     "output_type": "execute_result"
    }
   ],
   "source": [
    "import pandas as pd\n",
    "import numpy as np\n",
    "import sys\n",
    "import os\n",
    "sys.path.append(os.path.abspath(os.path.join(os.getcwd(), '../../')))\n",
    "\n",
    "\n",
    "\n",
    "df = pd.read_csv(os.path.join(os.getcwd(), \"../../data/total_4am.csv\"), index_col=0)\n",
    "\n",
    "df\n"
   ]
  },
  {
   "cell_type": "code",
   "execution_count": 10,
   "metadata": {},
   "outputs": [
    {
     "name": "stdout",
     "output_type": "stream",
     "text": [
      "0.1570906351155263\n"
     ]
    }
   ],
   "source": [
    "from performance import get_total_return\n",
    "\n",
    "buy_price = df[\"close\"].iloc[0]\n",
    "sell_price = df[\"close\"].iloc[-1]\n",
    "total_return = get_total_return(inital_value=buy_price, final_value=sell_price,)\n",
    "print(total_return)\n"
   ]
  },
  {
   "cell_type": "code",
   "execution_count": 11,
   "metadata": {},
   "outputs": [
    {
     "data": {
      "text/plain": [
       "0.04399334675305955"
      ]
     },
     "execution_count": 11,
     "metadata": {},
     "output_type": "execute_result"
    }
   ],
   "source": [
    "from performance import get_cagr\n",
    "\n",
    "days = len(df)\n",
    "cagr = get_cagr(total_return=total_return, days=days,)\n",
    "cagr"
   ]
  },
  {
   "cell_type": "code",
   "execution_count": 12,
   "metadata": {},
   "outputs": [
    {
     "data": {
      "text/plain": [
       "0.7423167267226642"
      ]
     },
     "execution_count": 12,
     "metadata": {},
     "output_type": "execute_result"
    }
   ],
   "source": [
    "from performance import get_mdd\n",
    "\n",
    "values = df[\"close\"]\n",
    "mdd = get_mdd(values=values)\n",
    "mdd"
   ]
  },
  {
   "cell_type": "code",
   "execution_count": 13,
   "metadata": {},
   "outputs": [
    {
     "name": "stdout",
     "output_type": "stream",
     "text": [
      "======Investment Summary======\n",
      "Strategy        : Buy&Hold\n",
      "total_return    : 15.71\n",
      "cagr            : 4.4\n",
      "mdd             : 74.23\n",
      "==============================\n"
     ]
    }
   ],
   "source": [
    "from performance import print_things\n",
    "print_things(strategy = \"Buy&Hold\", total_return=total_return, cagr=cagr, mdd=mdd)"
   ]
  }
 ],
 "metadata": {
  "kernelspec": {
   "display_name": "venv",
   "language": "python",
   "name": "python3"
  },
  "language_info": {
   "codemirror_mode": {
    "name": "ipython",
    "version": 3
   },
   "file_extension": ".py",
   "mimetype": "text/x-python",
   "name": "python",
   "nbconvert_exporter": "python",
   "pygments_lexer": "ipython3",
   "version": "3.11.6"
  }
 },
 "nbformat": 4,
 "nbformat_minor": 2
}
