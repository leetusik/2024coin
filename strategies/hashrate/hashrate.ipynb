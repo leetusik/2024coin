{
 "cells": [
  {
   "cell_type": "code",
   "execution_count": 7,
   "metadata": {},
   "outputs": [],
   "source": [
    "import pandas as pd\n",
    "import numpy as np\n",
    "import sys\n",
    "import os\n",
    "sys.path.append(os.path.abspath(os.path.join(os.getcwd(), '../../')))\n",
    "\n",
    "\n",
    "\n",
    "df = pd.read_csv(os.path.join(os.getcwd(), \"../../data/total_4am_with_hashrate.csv\"), index_col=0)\n"
   ]
  },
  {
   "cell_type": "code",
   "execution_count": 8,
   "metadata": {},
   "outputs": [
    {
     "name": "stdout",
     "output_type": "stream",
     "text": [
      "======Investment Summary======\n",
      "Strategy        : 3060_basic\n",
      "total_return    : 70.14\n",
      "cagr            : 19.17\n",
      "mdd             : 64.19\n",
      "total_return_w_fee : 64.45\n",
      "cagr_w_fee      : 17.84\n",
      "mdd_w_fee       : 64.62\n",
      "investing_days  : 1106\n",
      "==============================\n"
     ]
    }
   ],
   "source": [
    "from performance import get_performance\n",
    "\n",
    "\n",
    "df[\"HR_MA_30\"] = df[\"Hashrate (TH/s)\"].rolling(window=30).mean()\n",
    "df[\"HR_MA_60\"] = df[\"Hashrate (TH/s)\"].rolling(window=60).mean()\n",
    "\n",
    "# Implement RSI strategy for long positions only\n",
    "df['signal'] = 0  # Default to no position\n",
    "for i in range(26, len(df)):\n",
    "    # Buy condition\n",
    "    if df.loc[i, \"HR_MA_30\"] >= df.loc[i, \"HR_MA_60\"] and df.loc[i-1, \"HR_MA_30\"] < df.loc[i-1, \"HR_MA_60\"]:\n",
    "        df.loc[i, 'signal'] = 1\n",
    "    # Sell condition\n",
    "    elif df.loc[i, \"HR_MA_30\"] < df.loc[i, \"HR_MA_60\"] and df.loc[i-1, \"HR_MA_30\"] >= df.loc[i-1, \"HR_MA_60\"]:\n",
    "        df.loc[i, 'signal'] = -1\n",
    "\n",
    "# Manage positions\n",
    "df['position'] = 0\n",
    "holding_position = False\n",
    "\n",
    "for i in range(1, len(df)):\n",
    "    if df['signal'].iloc[i] == 1 and not holding_position:\n",
    "        df.loc[i, 'position'] = 1\n",
    "        holding_position = True\n",
    "    elif df['signal'].iloc[i] == -1 and holding_position:\n",
    "        df.loc[i, 'position'] = 0\n",
    "        holding_position = False\n",
    "    else:\n",
    "        df.loc[i, 'position'] = df['position'].iloc[i-1]\n",
    "\n",
    "# Calculate the strategy returns (only when in a long position)\n",
    "df['strategy_returns'] = df['position'].shift(1) * df['close'].pct_change()\n",
    "\n",
    "df['strategy_returns2'] = df['strategy_returns']\n",
    "\n",
    "for i in range(1, len(df)):\n",
    "    buy_price = df.loc[i-1, \"close\"]\n",
    "    buy_price_copy = buy_price\n",
    "    sell_price = df.loc[i, \"close\"]\n",
    "    sell_price_copy = sell_price\n",
    "    if df.loc[i-1, 'position'] == 1 and df.loc[i-1, 'signal'] == 1:\n",
    "        # df.loc[i, 'strategy_returns2'] = (df.loc[i,'position'])/(df.loc[i-1, 'position'] * 1.002) -1\n",
    "        buy_price = df.loc[i-1, \"close\"] * 1.002\n",
    "    if df.loc[i, 'position'] == 0 and df.loc[i-1, 'position'] != 0:\n",
    "        # df.loc[i, 'strategy_returns2'] = (df.loc[i,'position'] * 0.998)/(df.loc[i-1, 'position']) -1\n",
    "        sell_price = df.loc[i, \"close\"] * 0.998\n",
    "    \n",
    "    if buy_price == buy_price_copy and sell_price == sell_price_copy:\n",
    "        continue\n",
    "\n",
    "\n",
    "    df.loc[i, \"strategy_returns2\"] = sell_price/buy_price - 1\n",
    "\n",
    "df['cumulative_returns'] = (1 + df['strategy_returns']).cumprod()\n",
    "\n",
    "df[\"cumulative_returns2\"] = (1 + df['strategy_returns2']).cumprod()\n",
    "\n",
    "\n",
    "# Calculate the benchmark cumulative returns (buy and hold strategy)\n",
    "df['benchmark_returns'] = (1 + df['close'].pct_change()).cumprod()\n",
    "\n",
    "# Save the results to a CSV file\n",
    "df.to_csv(f\"../../results/hashrate/3060_basic.csv\")\n",
    "\n",
    "# Get performance metrics and plot the results\n",
    "get_performance(df=df, title=f\"3060_basic\")\n"
   ]
  }
 ],
 "metadata": {
  "kernelspec": {
   "display_name": "venv",
   "language": "python",
   "name": "python3"
  },
  "language_info": {
   "codemirror_mode": {
    "name": "ipython",
    "version": 3
   },
   "file_extension": ".py",
   "mimetype": "text/x-python",
   "name": "python",
   "nbconvert_exporter": "python",
   "pygments_lexer": "ipython3",
   "version": "3.11.6"
  }
 },
 "nbformat": 4,
 "nbformat_minor": 2
}
