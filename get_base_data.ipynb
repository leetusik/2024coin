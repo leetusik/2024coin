{
 "cells": [
  {
   "cell_type": "code",
   "execution_count": 1,
   "metadata": {},
   "outputs": [
    {
     "name": "stdout",
     "output_type": "stream",
     "text": [
      "       Unnamed: 0   market             time_kst        open        high  \\\n",
      "0               0  KRW-BTC  2020-01-01T00:00:00   8342000.0   8390000.0   \n",
      "1               1  KRW-BTC  2020-01-01T01:00:00   8309000.0   8344000.0   \n",
      "2               2  KRW-BTC  2020-01-01T02:00:00   8327000.0   8334000.0   \n",
      "3               3  KRW-BTC  2020-01-01T03:00:00   8276000.0   8292000.0   \n",
      "4               4  KRW-BTC  2020-01-01T04:00:00   8278000.0   8297000.0   \n",
      "...           ...      ...                  ...         ...         ...   \n",
      "40730       40730  KRW-BTC  2024-08-26T13:00:00  85659000.0  85750000.0   \n",
      "40731       40731  KRW-BTC  2024-08-26T14:00:00  85476000.0  85583000.0   \n",
      "40732       40732  KRW-BTC  2024-08-26T15:00:00  85473000.0  85535000.0   \n",
      "40733       40733  KRW-BTC  2024-08-26T16:00:00  85112000.0  85329000.0   \n",
      "40734       40734  KRW-BTC  2024-08-26T17:00:00  85025000.0  85241000.0   \n",
      "\n",
      "              low       close    volume_krw  volume_market  \n",
      "0       8306000.0   8310000.0  1.482165e+09     177.914025  \n",
      "1       8305000.0   8327000.0  3.220427e+08      38.661104  \n",
      "2       8260000.0   8274000.0  6.496382e+08      78.341298  \n",
      "3       8260000.0   8278000.0  4.129822e+08      49.933176  \n",
      "4       8269000.0   8292000.0  9.605603e+07      11.590286  \n",
      "...           ...         ...           ...            ...  \n",
      "40730  85457000.0  85472000.0  5.908320e+09      68.988468  \n",
      "40731  85330000.0  85473000.0  5.241955e+09      61.336620  \n",
      "40732  85110000.0  85114000.0  1.040637e+10     121.968312  \n",
      "40733  85000000.0  85025000.0  1.010743e+10     118.758116  \n",
      "40734  85009000.0  85041000.0  4.640460e+09      54.503254  \n",
      "\n",
      "[40735 rows x 9 columns]\n"
     ]
    }
   ],
   "source": [
    "import pandas as pd\n",
    "\n",
    "df = pd.read_csv(\"data/total_2_hours.csv\")\n",
    "print(df)"
   ]
  },
  {
   "cell_type": "code",
   "execution_count": 2,
   "metadata": {},
   "outputs": [
    {
     "name": "stderr",
     "output_type": "stream",
     "text": [
      "/var/folders/99/rgk848td545d3hdrkgrkw0t40000gn/T/ipykernel_46006/3122377263.py:5: FutureWarning: 'H' is deprecated and will be removed in a future version, please use 'h' instead.\n",
      "  complete_time_series = pd.date_range(start='2020-01-01 00:00:00', end='2024-08-26 17:00:00', freq='H')\n"
     ]
    },
    {
     "data": {
      "text/plain": [
       "DatetimeIndex(['2020-01-31 03:00:00', '2020-06-17 03:00:00',\n",
       "               '2020-06-17 04:00:00', '2020-06-17 05:00:00',\n",
       "               '2020-09-29 03:00:00', '2021-02-03 05:00:00',\n",
       "               '2021-02-20 04:00:00', '2021-02-20 05:00:00',\n",
       "               '2021-02-20 06:00:00', '2021-03-03 04:00:00',\n",
       "               '2021-03-03 05:00:00', '2021-03-14 04:00:00',\n",
       "               '2021-03-23 04:00:00', '2021-03-23 05:00:00',\n",
       "               '2021-04-19 04:00:00', '2021-06-01 04:00:00',\n",
       "               '2021-07-01 01:00:00', '2021-07-01 02:00:00',\n",
       "               '2021-08-17 03:00:00', '2021-10-13 00:00:00',\n",
       "               '2021-11-15 04:00:00', '2022-01-01 03:00:00',\n",
       "               '2022-01-01 04:00:00', '2022-02-14 03:00:00',\n",
       "               '2022-02-14 04:00:00', '2022-05-24 02:00:00',\n",
       "               '2022-07-01 02:00:00', '2022-07-01 03:00:00',\n",
       "               '2022-07-01 04:00:00', '2022-10-01 03:00:00',\n",
       "               '2023-01-01 03:00:00', '2023-01-01 04:00:00',\n",
       "               '2023-04-01 03:00:00', '2023-04-01 04:00:00',\n",
       "               '2023-04-01 05:00:00', '2023-04-24 03:00:00',\n",
       "               '2023-04-24 04:00:00', '2023-04-24 05:00:00',\n",
       "               '2023-04-24 06:00:00', '2023-07-12 03:00:00',\n",
       "               '2023-07-12 04:00:00', '2023-08-09 03:00:00',\n",
       "               '2023-08-09 04:00:00', '2023-08-09 05:00:00',\n",
       "               '2023-12-04 01:00:00', '2023-12-04 02:00:00',\n",
       "               '2023-12-04 03:00:00', '2023-12-04 04:00:00',\n",
       "               '2023-12-04 05:00:00', '2024-01-01 02:00:00',\n",
       "               '2024-01-01 03:00:00', '2024-01-01 04:00:00',\n",
       "               '2024-01-01 05:00:00', '2024-04-01 03:00:00',\n",
       "               '2024-04-01 04:00:00', '2024-04-01 05:00:00',\n",
       "               '2024-07-01 03:00:00', '2024-07-01 04:00:00',\n",
       "               '2024-07-01 05:00:00'],\n",
       "              dtype='datetime64[ns]', freq=None)"
      ]
     },
     "execution_count": 2,
     "metadata": {},
     "output_type": "execute_result"
    }
   ],
   "source": [
    "# Convert the 'time_kst' column to datetime\n",
    "df['time_kst'] = pd.to_datetime(df['time_kst'])\n",
    "\n",
    "# Generate the complete time series\n",
    "complete_time_series = pd.date_range(start='2020-01-01 00:00:00', end='2024-08-26 17:00:00', freq='H')\n",
    "\n",
    "# Find missing time intervals by comparing the two sets\n",
    "missing_times = complete_time_series.difference(df['time_kst'])\n",
    "\n",
    "# Display the missing times\n",
    "missing_times"
   ]
  },
  {
   "cell_type": "code",
   "execution_count": 3,
   "metadata": {},
   "outputs": [
    {
     "name": "stdout",
     "output_type": "stream",
     "text": [
      "    hour          open         close  volume_market\n",
      "0      0  4.276163e+07  4.277152e+07     302.964061\n",
      "1      1  4.278408e+07  4.277897e+07     240.035152\n",
      "2      2  4.278396e+07  4.278322e+07     154.239123\n",
      "3      3  4.278742e+07  4.279439e+07     126.999127\n",
      "4      4  4.266834e+07  4.267266e+07     117.849499\n",
      "5      5  4.272326e+07  4.274687e+07     138.844912\n",
      "6      6  4.281818e+07  4.284523e+07     165.412457\n",
      "7      7  4.285364e+07  4.286343e+07     212.535868\n",
      "8      8  4.286348e+07  4.283576e+07     255.149497\n",
      "9      9  4.283587e+07  4.284361e+07     417.232635\n",
      "10    10  4.284372e+07  4.283131e+07     326.313773\n",
      "11    11  4.283154e+07  4.281063e+07     284.963832\n",
      "12    12  4.281163e+07  4.278995e+07     271.913533\n",
      "13    13  4.279022e+07  4.277314e+07     259.748651\n",
      "14    14  4.277373e+07  4.276702e+07     249.661350\n",
      "15    15  4.276739e+07  4.278047e+07     262.955547\n",
      "16    16  4.278081e+07  4.278320e+07     275.319287\n",
      "17    17  4.278359e+07  4.279067e+07     298.943117\n",
      "18    18  4.276747e+07  4.276325e+07     281.185451\n",
      "19    19  4.276392e+07  4.277291e+07     277.614822\n",
      "20    20  4.277332e+07  4.278530e+07     283.886128\n",
      "21    21  4.278596e+07  4.280226e+07     354.792763\n",
      "22    22  4.280263e+07  4.281401e+07     378.089307\n",
      "23    23  4.281425e+07  4.279749e+07     359.681696\n"
     ]
    }
   ],
   "source": [
    "import pandas as pd\n",
    "\n",
    "# Assuming your DataFrame is named df and the 'time_kst' column is already in datetime format\n",
    "df['hour'] = df['time_kst'].dt.hour  # Extract hour from time_kst\n",
    "\n",
    "# Group by the 'hour' column\n",
    "grouped_by_hour = df.groupby('hour').agg({\n",
    "    'open': 'mean',        # Example: Calculate the average 'open' price per hour\n",
    "    'close': 'mean',       # Example: Calculate the average 'close' price per hour\n",
    "    'volume_market': 'mean'    # Example: Calculate the total volume per hour\n",
    "})\n",
    "\n",
    "# Reset index if you want the hour to be a column again\n",
    "grouped_by_hour = grouped_by_hour.reset_index()\n",
    "\n",
    "# Display the result\n",
    "print(grouped_by_hour)\n"
   ]
  },
  {
   "cell_type": "code",
   "execution_count": 4,
   "metadata": {},
   "outputs": [
    {
     "name": "stdout",
     "output_type": "stream",
     "text": [
      "     day_starting_at_4am        open        high         low       close  \\\n",
      "0    2019-12-31 04:00:00   8342000.0   8390000.0   8260000.0   8278000.0   \n",
      "1    2020-01-01 04:00:00   8278000.0   8387000.0   8269000.0   8342000.0   \n",
      "2    2020-01-02 04:00:00   8340000.0   8341000.0   8030000.0   8085000.0   \n",
      "3    2020-01-03 04:00:00   8085000.0   8525000.0   7910000.0   8485000.0   \n",
      "4    2020-01-04 04:00:00   8486000.0   8520000.0   8382000.0   8429000.0   \n",
      "...                  ...         ...         ...         ...         ...   \n",
      "1696 2024-08-22 04:00:00  82390000.0  83600000.0  81280000.0  81962000.0   \n",
      "1697 2024-08-23 04:00:00  81955000.0  84984000.0  81871000.0  84690000.0   \n",
      "1698 2024-08-24 04:00:00  84672000.0  86500000.0  84540000.0  85742000.0   \n",
      "1699 2024-08-25 04:00:00  85742000.0  86199000.0  85300000.0  85990000.0   \n",
      "1700 2024-08-26 04:00:00  85929000.0  86979000.0  85000000.0  85041000.0   \n",
      "\n",
      "        volume_krw  volume_market  \n",
      "0     2.866828e+09     344.849603  \n",
      "1     8.275045e+09     993.684539  \n",
      "2     1.495244e+10    1822.111090  \n",
      "3     4.902840e+10    5904.063410  \n",
      "4     1.778679e+10    2105.758057  \n",
      "...            ...            ...  \n",
      "1696  2.422034e+11    2932.662045  \n",
      "1697  2.671331e+11    3213.124045  \n",
      "1698  2.942932e+11    3432.962091  \n",
      "1699  1.217810e+11    1421.137462  \n",
      "1700  1.326626e+11    1545.794600  \n",
      "\n",
      "[1701 rows x 7 columns]\n"
     ]
    },
    {
     "name": "stderr",
     "output_type": "stream",
     "text": [
      "/var/folders/99/rgk848td545d3hdrkgrkw0t40000gn/T/ipykernel_46006/2786019940.py:6: FutureWarning: 'H' is deprecated and will be removed in a future version, please use 'h' instead.\n",
      "  daily_df = df.resample('24H', offset='4H', origin='start').agg({\n",
      "/var/folders/99/rgk848td545d3hdrkgrkw0t40000gn/T/ipykernel_46006/2786019940.py:6: FutureWarning: 'H' is deprecated and will be removed in a future version. Please use 'h' instead of 'H'.\n",
      "  daily_df = df.resample('24H', offset='4H', origin='start').agg({\n"
     ]
    }
   ],
   "source": [
    "# Step 1: Set the index to 'time_kst'\n",
    "df.set_index('time_kst', inplace=True)\n",
    "\n",
    "# Step 2: Resample the data starting at 4:00 AM each day\n",
    "# This will give daily intervals starting from 4:00 AM\n",
    "daily_df = df.resample('24H', offset='4H', origin='start').agg({\n",
    "    'open': 'first',           # Open price at 4:00 AM\n",
    "    'high': 'max',             # Highest price in the interval\n",
    "    'low': 'min',              # Lowest price in the interval\n",
    "    'close': 'last',           # Close price at 4:00 AM next day\n",
    "    'volume_krw': 'sum',       # Total volume in the interval\n",
    "    'volume_market': 'sum'     # Total market volume in the interval\n",
    "}).reset_index()\n",
    "\n",
    "# Step 3: Rename the time column\n",
    "daily_df.rename(columns={'time_kst': 'day_starting_at_4am'}, inplace=True)\n",
    "\n",
    "# Display the result\n",
    "print(daily_df)"
   ]
  },
  {
   "cell_type": "code",
   "execution_count": 5,
   "metadata": {},
   "outputs": [],
   "source": [
    "daily_df.to_csv(\"data/total_2_4am.csv\")"
   ]
  }
 ],
 "metadata": {
  "kernelspec": {
   "display_name": "venv",
   "language": "python",
   "name": "python3"
  },
  "language_info": {
   "codemirror_mode": {
    "name": "ipython",
    "version": 3
   },
   "file_extension": ".py",
   "mimetype": "text/x-python",
   "name": "python",
   "nbconvert_exporter": "python",
   "pygments_lexer": "ipython3",
   "version": "3.11.6"
  }
 },
 "nbformat": 4,
 "nbformat_minor": 2
}
