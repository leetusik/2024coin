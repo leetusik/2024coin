{
 "cells": [
  {
   "cell_type": "code",
   "execution_count": 5,
   "metadata": {},
   "outputs": [
    {
     "name": "stdout",
     "output_type": "stream",
     "text": [
      "Combined results saved to 0_mix_strategies/combined_results.csv\n"
     ]
    }
   ],
   "source": [
    "import pandas as pd\n",
    "import os\n",
    "\n",
    "# Change to strategy_lab directory if needed\n",
    "os.chdir(\"/Users/sugang/Desktop/projects/2024coin/strategy_lab\")\n",
    "\n",
    "# List of strategy folders to process\n",
    "strategy_folders = [\n",
    "    \"1_moving_averages\",\n",
    "    \"2_trading_range_breakouts\",\n",
    "    \"3_moving_average_convergence_divergence\",\n",
    "    \"4_bollinger_bands\",\n",
    "    \"5_on_balance_volume\",\n",
    "    \"6_relative_strength_index\",\n",
    "    \"7_bollinger_bands\"\n",
    "]\n",
    "\n",
    "# Initialize an empty list to store all results\n",
    "all_results = []\n",
    "\n",
    "# Read and concatenate each results.csv file\n",
    "for folder in strategy_folders:\n",
    "    results_path = f\"{folder}/results.csv\"\n",
    "    if os.path.exists(results_path):\n",
    "        df = pd.read_csv(results_path)\n",
    "        # Add a column to identify the strategy folder\n",
    "        df['strategy_folder'] = folder\n",
    "        all_results.append(df)\n",
    "\n",
    "# Concatenate all results into a single DataFrame\n",
    "if all_results:\n",
    "    combined_results = pd.concat(all_results, ignore_index=True)\n",
    "    \n",
    "    # Save the combined results\n",
    "    os.makedirs(\"0_mix_strategies\", exist_ok=True)\n",
    "    # Remove rows where investing_days exceeds 10,000\n",
    "    combined_results = combined_results[combined_results['investing_period'] <= 10000]\n",
    "    combined_results.to_csv(\"0_mix_strategies/combined_results.csv\", index=False)\n",
    "    print(\"Combined results saved to 0_mix_strategies/combined_results.csv\")\n",
    "else:\n",
    "    print(\"No results.csv files found in the strategy folders\")"
   ]
  }
 ],
 "metadata": {
  "kernelspec": {
   "display_name": "venv",
   "language": "python",
   "name": "python3"
  },
  "language_info": {
   "codemirror_mode": {
    "name": "ipython",
    "version": 3
   },
   "file_extension": ".py",
   "mimetype": "text/x-python",
   "name": "python",
   "nbconvert_exporter": "python",
   "pygments_lexer": "ipython3",
   "version": "3.11.6"
  }
 },
 "nbformat": 4,
 "nbformat_minor": 2
}
